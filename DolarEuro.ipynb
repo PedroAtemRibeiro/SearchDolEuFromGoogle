{
 "cells": [
  {
   "cell_type": "code",
   "execution_count": 1,
   "id": "6b009770",
   "metadata": {},
   "outputs": [
    {
     "name": "stdout",
     "output_type": "stream",
     "text": [
      "Requirement already satisfied: pyautogui in c:\\users\\pedro\\anaconda3\\lib\\site-packages (0.9.53)\n",
      "Requirement already satisfied: pymsgbox in c:\\users\\pedro\\anaconda3\\lib\\site-packages (from pyautogui) (1.0.9)\n",
      "Requirement already satisfied: PyTweening>=1.0.1 in c:\\users\\pedro\\anaconda3\\lib\\site-packages (from pyautogui) (1.0.4)\n",
      "Requirement already satisfied: pyscreeze>=0.1.21 in c:\\users\\pedro\\anaconda3\\lib\\site-packages (from pyautogui) (0.1.28)\n",
      "Requirement already satisfied: pygetwindow>=0.0.5 in c:\\users\\pedro\\anaconda3\\lib\\site-packages (from pyautogui) (0.0.9)\n",
      "Requirement already satisfied: mouseinfo in c:\\users\\pedro\\anaconda3\\lib\\site-packages (from pyautogui) (0.1.3)\n",
      "Requirement already satisfied: pyrect in c:\\users\\pedro\\anaconda3\\lib\\site-packages (from pygetwindow>=0.0.5->pyautogui) (0.2.0)\n",
      "Requirement already satisfied: pyperclip in c:\\users\\pedro\\anaconda3\\lib\\site-packages (from mouseinfo->pyautogui) (1.8.2)\n"
     ]
    }
   ],
   "source": [
    "!pip install pyautogui"
   ]
  },
  {
   "cell_type": "code",
   "execution_count": 13,
   "id": "a12d4752",
   "metadata": {},
   "outputs": [],
   "source": [
    "import pyautogui as posicaoMouse\n",
    "\n",
    "posicaoMouse.sleep(1)\n",
    "\n",
    "posicaoMouse.moveTo(x=20, y=756)\n",
    "posicaoMouse.click(x=20, y=756)\n",
    "\n",
    "posicaoMouse.sleep(1)\n",
    "\n",
    "posicaoMouse.moveTo(x=151, y=513)\n",
    "posicaoMouse.click(x=151, y=513)\n",
    "\n",
    "#print(posicaoMouse.position())"
   ]
  },
  {
   "cell_type": "code",
   "execution_count": 2,
   "id": "06add32c",
   "metadata": {},
   "outputs": [
    {
     "name": "stdout",
     "output_type": "stream",
     "text": [
      "Point(x=297, y=656)\n"
     ]
    }
   ],
   "source": [
    "import pyautogui as posicaoAbrirGoogle\n",
    "\n",
    "#posicaoMouse.sleep(3)\n",
    "#print(posicaoMouse.position())\n",
    "\n",
    "posicaoAbrirGoogle.sleep(1)\n",
    "posicaoAbrirGoogle.moveTo(x=149, y=747)\n",
    "posicaoAbrirGoogle.click(x=149, y=747)\n",
    "posicaoAbrirGoogle.typewrite('chr')\n",
    "posicaoAbrirGoogle.sleep(1)\n",
    "posicaoAbrirGoogle.press('enter')\n",
    "posicaoAbrirGoogle.sleep(1)\n",
    "posicaoAbrirGoogle.typewrite('https://www.windguru.cz/263')\n",
    "posicaoAbrirGoogle.press('enter')\n",
    "\n",
    "posicaoAbrirGoogle.sleep(3)\n",
    "print(posicaoAbrirGoogle.position())\n",
    "\n",
    "\n"
   ]
  },
  {
   "cell_type": "code",
   "execution_count": 44,
   "id": "4f99175c",
   "metadata": {},
   "outputs": [
    {
     "name": "stdout",
     "output_type": "stream",
     "text": [
      "Collecting selenium\n",
      "  Downloading selenium-4.8.0-py3-none-any.whl (6.3 MB)\n",
      "     ---------------------------------------- 6.3/6.3 MB 2.5 MB/s eta 0:00:00\n",
      "Requirement already satisfied: urllib3[socks]~=1.26 in c:\\users\\pedro\\anaconda3\\lib\\site-packages (from selenium) (1.26.11)\n",
      "Requirement already satisfied: certifi>=2021.10.8 in c:\\users\\pedro\\anaconda3\\lib\\site-packages (from selenium) (2022.9.14)\n",
      "Collecting trio-websocket~=0.9\n",
      "  Downloading trio_websocket-0.9.2-py3-none-any.whl (16 kB)\n",
      "Collecting trio~=0.17\n",
      "  Downloading trio-0.22.0-py3-none-any.whl (384 kB)\n",
      "     -------------------------------------- 384.9/384.9 kB 4.0 MB/s eta 0:00:00\n",
      "Requirement already satisfied: sniffio in c:\\users\\pedro\\anaconda3\\lib\\site-packages (from trio~=0.17->selenium) (1.2.0)\n",
      "Requirement already satisfied: sortedcontainers in c:\\users\\pedro\\anaconda3\\lib\\site-packages (from trio~=0.17->selenium) (2.4.0)\n",
      "Collecting async-generator>=1.9\n",
      "  Downloading async_generator-1.10-py3-none-any.whl (18 kB)\n",
      "Requirement already satisfied: cffi>=1.14 in c:\\users\\pedro\\anaconda3\\lib\\site-packages (from trio~=0.17->selenium) (1.15.1)\n",
      "Requirement already satisfied: idna in c:\\users\\pedro\\anaconda3\\lib\\site-packages (from trio~=0.17->selenium) (3.3)\n",
      "Collecting outcome\n",
      "  Downloading outcome-1.2.0-py2.py3-none-any.whl (9.7 kB)\n",
      "Collecting exceptiongroup>=1.0.0rc9\n",
      "  Downloading exceptiongroup-1.1.0-py3-none-any.whl (14 kB)\n",
      "Requirement already satisfied: attrs>=19.2.0 in c:\\users\\pedro\\anaconda3\\lib\\site-packages (from trio~=0.17->selenium) (21.4.0)\n",
      "Collecting wsproto>=0.14\n",
      "  Downloading wsproto-1.2.0-py3-none-any.whl (24 kB)\n",
      "Requirement already satisfied: PySocks!=1.5.7,<2.0,>=1.5.6 in c:\\users\\pedro\\anaconda3\\lib\\site-packages (from urllib3[socks]~=1.26->selenium) (1.7.1)\n",
      "Requirement already satisfied: pycparser in c:\\users\\pedro\\anaconda3\\lib\\site-packages (from cffi>=1.14->trio~=0.17->selenium) (2.21)\n",
      "Collecting h11<1,>=0.9.0\n",
      "  Downloading h11-0.14.0-py3-none-any.whl (58 kB)\n",
      "     ---------------------------------------- 58.3/58.3 kB 1.0 MB/s eta 0:00:00\n",
      "Installing collected packages: outcome, h11, exceptiongroup, async-generator, wsproto, trio, trio-websocket, selenium\n",
      "Successfully installed async-generator-1.10 exceptiongroup-1.1.0 h11-0.14.0 outcome-1.2.0 selenium-4.8.0 trio-0.22.0 trio-websocket-0.9.2 wsproto-1.2.0\n"
     ]
    }
   ],
   "source": [
    "!pip install selenium"
   ]
  },
  {
   "cell_type": "code",
   "execution_count": 49,
   "id": "a275f7f5",
   "metadata": {},
   "outputs": [],
   "source": [
    "from selenium import webdriver\n",
    "\n",
    "abrirNavegador = webdriver.Chrome()\n",
    "\n",
    "abrirNavegador.get(\"https://www.google.com.br/\")"
   ]
  },
  {
   "cell_type": "code",
   "execution_count": 71,
   "id": "033e0a83",
   "metadata": {},
   "outputs": [
    {
     "name": "stdout",
     "output_type": "stream",
     "text": [
      "5,54\n"
     ]
    }
   ],
   "source": [
    "from selenium import webdriver as navegando\n",
    "from selenium.webdriver.common.keys import Keys\n",
    "import pyautogui as tempoPausaComputador\n",
    "\n",
    "from selenium.webdriver.common.by import By\n",
    "\n",
    "\n",
    "meuNavegador = navegando.Chrome()\n",
    "meuNavegador.get(\"https://www.google.com.br/\")\n",
    "\n",
    "tempoPausaComputador.sleep(1)\n",
    "\n",
    "meuNavegador.find_element(By.NAME, \"q\").send_keys(\"Dolar hoje\")\n",
    "\n",
    "tempoPausaComputador.sleep(1)\n",
    "\n",
    "meuNavegador.find_element(By.NAME, \"q\").send_keys(Keys.RETURN)\n",
    "\n",
    "tempoPausaComputador.sleep(1)\n",
    "\n",
    "\n",
    "DolarHoje = meuNavegador.find_elements(By.XPATH,'//*[@id=\"knowledge-currency__updatable-data-column\"]/div[1]/div[2]/span[1]')[0].text\n",
    "\n",
    "print(DolarHoje)"
   ]
  },
  {
   "cell_type": "code",
   "execution_count": 78,
   "id": "185caf61",
   "metadata": {},
   "outputs": [
    {
     "name": "stdout",
     "output_type": "stream",
     "text": [
      "5,07\n",
      "5,54\n"
     ]
    }
   ],
   "source": [
    "from selenium import webdriver as navegando\n",
    "from selenium.webdriver.common.keys import Keys\n",
    "import pyautogui as tempoPausaComputador\n",
    "import pyautogui as teclasAtalho\n",
    "\n",
    "\n",
    "from selenium.webdriver.common.by import By\n",
    "\n",
    "\n",
    "meuNavegador = navegando.Chrome()\n",
    "meuNavegador.get(\"https://www.google.com.br/\")\n",
    "\n",
    "tempoPausaComputador.sleep(1)\n",
    "\n",
    "meuNavegador.find_element(By.NAME, \"q\").send_keys(\"Dolar hoje\")\n",
    "\n",
    "tempoPausaComputador.sleep(1)\n",
    "\n",
    "meuNavegador.find_element(By.NAME, \"q\").send_keys(Keys.RETURN)\n",
    "\n",
    "tempoPausaComputador.sleep(1)\n",
    "\n",
    "\n",
    "DolarHoje = meuNavegador.find_elements(By.XPATH,'//*[@id=\"knowledge-currency__updatable-data-column\"]/div[1]/div[2]/span[1]')[0].text\n",
    "\n",
    "\n",
    "#----------------------------------------------------------------------------------------------------------------------\n",
    "\n",
    "\n",
    "tempoPausaComputador.sleep(1)\n",
    "\n",
    "meuNavegador.find_element(By.NAME, \"q\").send_keys(\"\")\n",
    "\n",
    "tempoPausaComputador.sleep(2)\n",
    "\n",
    "teclasAtalho.press('tab')\n",
    "\n",
    "teclasAtalho.press('enter')\n",
    "\n",
    "\n",
    "meuNavegador.find_element(By.NAME, \"q\").send_keys(\"Euro Hoje\")\n",
    "\n",
    "tempoPausaComputador.sleep(2)\n",
    "\n",
    "\n",
    "meuNavegador.find_element(By.NAME, \"q\").send_keys(Keys.RETURN)\n",
    "\n",
    "tempoPausaComputador.sleep(2)\n",
    "\n",
    "EuroHoje = meuNavegador.find_elements(By.XPATH,'//*[@id=\"knowledge-currency__updatable-data-column\"]/div[1]/div[2]/span[1]')[0].text\n",
    "\n",
    "print(DolarHoje)\n",
    "print(EuroHoje)"
   ]
  },
  {
   "cell_type": "code",
   "execution_count": 79,
   "id": "f944fc97",
   "metadata": {},
   "outputs": [
    {
     "name": "stdout",
     "output_type": "stream",
     "text": [
      "Requirement already satisfied: xlsxwriter in c:\\users\\pedro\\anaconda3\\lib\\site-packages (3.0.3)\n"
     ]
    }
   ],
   "source": [
    "!pip install xlsxwriter"
   ]
  },
  {
   "cell_type": "code",
   "execution_count": 5,
   "id": "edee1717",
   "metadata": {},
   "outputs": [],
   "source": [
    "import xlsxwriter\n",
    "import os\n",
    "\n",
    "\n",
    "\n",
    "nomeCaminhoArquivo = \"C:\\\\Users\\\\pedro\\\\Documents\\\\Python Scripts\\\\Dolar e Euro Google.xlsx\"\n",
    "\n",
    "planilhaCriada = xlsxwriter.Workbook(nomeCaminhoArquivo)\n",
    "planilha1 = planilhaCriada.add_worksheet()\n",
    "\n",
    "\n",
    "planilha1.write(\"A1\", \"Nome\")\n",
    "planilha1.write(\"B1\", \"Idade\")\n",
    "planilha1.write(\"A2\", \"Amanda\")\n",
    "planilha1.write(\"B2\", \"28\")\n",
    "planilha1.write(\"A3\", \"Roberto\")\n",
    "planilha1.write(\"B3\", \"35\")\n",
    "\n",
    "planilhaCriada.close()\n",
    "\n",
    "os.startfile(nomeCaminhoArquivo)\n",
    "\n"
   ]
  },
  {
   "cell_type": "code",
   "execution_count": 10,
   "id": "f3fa5819",
   "metadata": {},
   "outputs": [
    {
     "name": "stdout",
     "output_type": "stream",
     "text": [
      "5,09\n",
      "5,53\n"
     ]
    }
   ],
   "source": [
    "from selenium import webdriver as navegando\n",
    "from selenium.webdriver.common.keys import Keys\n",
    "import pyautogui as tempoPausaComputador\n",
    "import pyautogui as teclasAtalho\n",
    "\n",
    "\n",
    "from selenium.webdriver.common.by import By\n",
    "\n",
    "\n",
    "meuNavegador = navegando.Chrome()\n",
    "meuNavegador.get(\"https://www.google.com.br/\")\n",
    "\n",
    "tempoPausaComputador.sleep(1)\n",
    "\n",
    "meuNavegador.find_element(By.NAME, \"q\").send_keys(\"Dolar hoje\")\n",
    "\n",
    "tempoPausaComputador.sleep(1)\n",
    "\n",
    "meuNavegador.find_element(By.NAME, \"q\").send_keys(Keys.RETURN)\n",
    "\n",
    "tempoPausaComputador.sleep(1)\n",
    "\n",
    "\n",
    "DolarHoje = meuNavegador.find_elements(By.XPATH,'//*[@id=\"knowledge-currency__updatable-data-column\"]/div[1]/div[2]/span[1]')[0].text\n",
    "\n",
    "\n",
    "#----------------------------------------------------------------------------------------------------------------------\n",
    "\n",
    "\n",
    "tempoPausaComputador.sleep(1)\n",
    "\n",
    "meuNavegador.find_element(By.NAME, \"q\").send_keys(\"\")\n",
    "\n",
    "tempoPausaComputador.sleep(2)\n",
    "\n",
    "teclasAtalho.press('tab')\n",
    "\n",
    "teclasAtalho.press('enter')\n",
    "\n",
    "\n",
    "meuNavegador.find_element(By.NAME, \"q\").send_keys(\"Euro Hoje\")\n",
    "\n",
    "tempoPausaComputador.sleep(2)\n",
    "\n",
    "\n",
    "meuNavegador.find_element(By.NAME, \"q\").send_keys(Keys.RETURN)\n",
    "\n",
    "tempoPausaComputador.sleep(2)\n",
    "\n",
    "EuroHoje = meuNavegador.find_elements(By.XPATH,'//*[@id=\"knowledge-currency__updatable-data-column\"]/div[1]/div[2]/span[1]')[0].text\n",
    "\n",
    "print(DolarHoje)\n",
    "print(EuroHoje)\n",
    "\n",
    "\n",
    "tempoPausaComputador.sleep(2)\n",
    "\n",
    "\n",
    "\n",
    "\n",
    "#-----------------------------------------------------------------------------------------------------------------------------------\n",
    "\n",
    "\n",
    "\n",
    "\n",
    "import xlsxwriter\n",
    "import os\n",
    "\n",
    "\n",
    "\n",
    "nomeCaminhoArquivo = \"C:\\\\Users\\\\pedro\\\\Documents\\\\Python Scripts\\\\Dolar e Euro do Google para o Excel.xlsx\"\n",
    "\n",
    "planilhaCriada = xlsxwriter.Workbook(nomeCaminhoArquivo)\n",
    "planilha1 = planilhaCriada.add_worksheet()\n",
    "\n",
    "\n",
    "planilha1.write(\"A1\", \"Dólar\")\n",
    "planilha1.write(\"B1\", \"Euro\")\n",
    "planilha1.write(\"A2\", DolarHoje )\n",
    "planilha1.write(\"B2\", EuroHoje)\n",
    "\n",
    "DolarHoje = DolarHoje.replace(',','.')\n",
    "EuroHoje = EuroHoje.replace(',','.')\n",
    "\n",
    "DolarHojeFloat = float(DolarHoje)\n",
    "EuroHojeFloat = float(EuroHoje)\n",
    "\n",
    "planilha1.write(\"A3\", DolarHoje )\n",
    "planilha1.write(\"B3\", EuroHoje)\n",
    "\n",
    "planilhaCriada.close()\n",
    "\n",
    "os.startfile(nomeCaminhoArquivo)\n"
   ]
  },
  {
   "cell_type": "code",
   "execution_count": null,
   "id": "048ab106",
   "metadata": {},
   "outputs": [],
   "source": []
  },
  {
   "cell_type": "code",
   "execution_count": null,
   "id": "04d87f19",
   "metadata": {},
   "outputs": [],
   "source": []
  }
 ],
 "metadata": {
  "kernelspec": {
   "display_name": "Python 3 (ipykernel)",
   "language": "python",
   "name": "python3"
  },
  "language_info": {
   "codemirror_mode": {
    "name": "ipython",
    "version": 3
   },
   "file_extension": ".py",
   "mimetype": "text/x-python",
   "name": "python",
   "nbconvert_exporter": "python",
   "pygments_lexer": "ipython3",
   "version": "3.9.13"
  }
 },
 "nbformat": 4,
 "nbformat_minor": 5
}
